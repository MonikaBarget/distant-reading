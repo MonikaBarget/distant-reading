{
 "cells": [
  {
   "cell_type": "markdown",
   "id": "ffbc9999",
   "metadata": {
    "id": "ffbc9999"
   },
   "source": [
    "# Apple Podcast Review Scraping with the app_store_scraper\n",
    "\n",
    "This program is a wrapper for scraping the Apple Podcast Reviews with the **app-store-scraper** (thank you Eric Lim, see https://pypi.org/project/app-store-scraper/, MIT license). It was adapted for use in teaching at Maastricht University by Monika Barget and Arnoud Wils in 2023.\n",
    "\n",
    "The main script is kept as lean as possible to make it easy to use for students without previous coding experience. To use the script, carefully read and follow the instructions below."
   ]
  },
  {
   "cell_type": "markdown",
   "id": "3d8649ea",
   "metadata": {
    "id": "3d8649ea"
   },
   "source": [
    "## Install and import modules\n",
    "\n",
    "This section ensures that your script has all the necessary functionalities. Just select the grey box below and click on the black arrow in the tool bar. Wait for the completion message before you continue!"
   ]
  },
  {
   "cell_type": "code",
   "execution_count": 6,
   "id": "139ab6a9",
   "metadata": {
    "colab": {
     "base_uri": "https://localhost:8080/"
    },
    "id": "139ab6a9",
    "outputId": "ce206d3e-9f31-4afc-bbb4-778e0f06b545",
    "tags": []
   },
   "outputs": [
    {
     "name": "stdout",
     "output_type": "stream",
     "text": [
      "Requirement already satisfied: pip in /opt/conda/lib/python3.8/site-packages (24.2)\n",
      "Collecting urllib3==1.26.16\n",
      "  Using cached urllib3-1.26.16-py2.py3-none-any.whl.metadata (48 kB)\n",
      "Using cached urllib3-1.26.16-py2.py3-none-any.whl (143 kB)\n",
      "Installing collected packages: urllib3\n",
      "  Attempting uninstall: urllib3\n",
      "    Found existing installation: urllib3 2.2.3\n",
      "    Uninstalling urllib3-2.2.3:\n",
      "      Successfully uninstalled urllib3-2.2.3\n",
      "\u001b[31mERROR: pip's dependency resolver does not currently take into account all the packages that are installed. This behaviour is the source of the following dependency conflicts.\n",
      "app-store-web-scraper 0.2.0 requires urllib3<3,>=2.0.0, but you have urllib3 1.26.16 which is incompatible.\u001b[0m\u001b[31m\n",
      "\u001b[0mSuccessfully installed urllib3-1.26.16\n",
      "Requirement already satisfied: app-store-web-scraper in /opt/conda/lib/python3.8/site-packages (0.2.0)\n",
      "Collecting urllib3<3,>=2.0.0 (from app-store-web-scraper)\n",
      "  Using cached urllib3-2.2.3-py3-none-any.whl.metadata (6.5 kB)\n",
      "Using cached urllib3-2.2.3-py3-none-any.whl (126 kB)\n",
      "Installing collected packages: urllib3\n",
      "  Attempting uninstall: urllib3\n",
      "    Found existing installation: urllib3 1.26.16\n",
      "    Uninstalling urllib3-1.26.16:\n",
      "      Successfully uninstalled urllib3-1.26.16\n",
      "\u001b[31mERROR: pip's dependency resolver does not currently take into account all the packages that are installed. This behaviour is the source of the following dependency conflicts.\n",
      "selenium 4.1.0 requires urllib3[secure]~=1.26, but you have urllib3 2.2.3 which is incompatible.\u001b[0m\u001b[31m\n",
      "\u001b[0mSuccessfully installed urllib3-2.2.3\n",
      "Installations and package import complete!\n"
     ]
    }
   ],
   "source": [
    "!pip install --upgrade pip\n",
    "!pip install urllib3==1.26.16\n",
    "!pip install app-store-web-scraper\n",
    "\n",
    "from pprint import pprint\n",
    "from verify_countries import pool_checks\n",
    "from scrape_reviews import scrape_reviews\n",
    "import os\n",
    "import glob\n",
    "import re\n",
    "import pandas as pd\n",
    "import urllib3\n",
    "import numpy as np\n",
    "\n",
    "print(\"Installations and package import complete!\")"
   ]
  },
  {
   "cell_type": "markdown",
   "id": "df250ef6",
   "metadata": {
    "id": "df250ef6"
   },
   "source": [
    "## Define data input\n",
    "\n",
    "In this section, you may need to adjust a few things, depending on your research project. In the first grey box below, country codes for the Apple Store are imported. It is recommended to use all country codes available, but if you want to limit them, you can do so in the separate applestore_country_codes.py file. The second grey box has code that checks what reviews are available for selected podcasts. Here, you may need to insert the app IDs and app names for your own selected podcasts. The existing values can be used as a test to see if the script works."
   ]
  },
  {
   "cell_type": "code",
   "execution_count": 7,
   "id": "nxvI2xC8DPAe",
   "metadata": {
    "id": "nxvI2xC8DPAe",
    "tags": []
   },
   "outputs": [
    {
     "name": "stdout",
     "output_type": "stream",
     "text": [
      "The country codes have been successfully loaded:  ['DZ', 'AO', 'AI', 'AR', 'AM', 'AU', 'AT', 'AZ', 'BH', 'BB', 'BY', 'BE', 'BZ', 'BM', 'BO', 'BW', 'BR', 'VG', 'BN', 'BG', 'CA', 'KY', 'CL', 'CN', 'CO', 'CR', 'HR', 'CY', 'CZ', 'DK', 'DM', 'EC', 'EG', 'SV', 'EE', 'FI', 'FR', 'DE', 'GH', 'GB', 'GR', 'GD', 'GT', 'GY', 'HN', 'HK', 'HU', 'IS', 'IN', 'ID', 'IE', 'IL', 'IT', 'JM', 'JP', 'JO', 'KE', 'KW', 'LV', 'LB', 'LT', 'LU', 'MO', 'MG', 'MY', 'ML', 'MT', 'MU', 'MX', 'MS', 'NP', 'NL', 'NZ', 'NI', 'NE', 'NG', 'NO', 'OM', 'PK', 'PA', 'PY', 'PE', 'PH', 'PL', 'PT', 'QA', 'MK', 'RO', 'RU', 'SA', 'SN', 'SG', 'SK', 'SI', 'ZA', 'KR', 'ES', 'LK', 'SR', 'SE', 'CH', 'TW', 'TZ', 'TH', 'TN', 'TR', 'UG', 'UA', 'AE', 'US', 'UY', 'UZ', 'VE', 'VN', 'YE']\n"
     ]
    }
   ],
   "source": [
    "# import Apple Store country codes from separate file\n",
    "from applestore_country_codes import select_countries \n",
    "\n",
    "countries = select_countries()\n",
    "\n",
    "# display items in list\n",
    "print(\"The country codes have been successfully loaded: \", countries)"
   ]
  },
  {
   "cell_type": "code",
   "execution_count": 8,
   "id": "da433ad3-1ff1-435a-9ade-ffefdafeed82",
   "metadata": {
    "tags": []
   },
   "outputs": [
    {
     "name": "stdout",
     "output_type": "stream",
     "text": [
      "Podcasts defined!\n"
     ]
    }
   ],
   "source": [
    "# Define a list of App Store items with app_id and app_name for scraping\n",
    "# remove or add lines within the podcast list if needed\n",
    "podcasts = [\n",
    "    {\"app_id\": 1568547321, \"app_name\": 'are-you-menstrual'},\n",
    "    {\"app_id\": 1614435903, \"app_name\": '28ish-days-later'},\n",
    "    {\"app_id\": 1537830674, \"app_name\": 'holistic-womens-health-hormones-endometriosis-pcos'}\n",
    "]\n",
    "\n",
    "# URL structure of typical App Store item:\n",
    "# https://podcasts.apple.com/us/podcast/black-women-talk-tech-podcast/id1453181438\n",
    "# copy ID and podcast name from your URL\n",
    "\n",
    "# Standard URL for Apple Podcasts\n",
    "base_url = \"https://podcasts.apple.com/us/podcast/\"\n",
    "\n",
    "# Important: country codes will be selected from the list above\n",
    "\n",
    "# Set output path\n",
    "path_out = \"output/\"\n",
    "\n",
    "print(\"Podcasts defined!\")"
   ]
  },
  {
   "cell_type": "markdown",
   "id": "513466ed-9eb0-4522-95a5-3ea73a841f99",
   "metadata": {},
   "source": [
    "## Validate data and collect reviews\n",
    "\n",
    "Here, you only need to run the code below and monitor the output. No changes in the script are required from your side. If you encounter an error, let your tutor know. A common mistake is that the external scripts called here are not in the right place and cannot be found."
   ]
  },
  {
   "cell_type": "code",
   "execution_count": 11,
   "id": "72b4bf43",
   "metadata": {
    "id": "72b4bf43",
    "tags": []
   },
   "outputs": [
    {
     "name": "stdout",
     "output_type": "stream",
     "text": [
      "Scraping URL: https://podcasts.apple.com/us/podcast/are-you-menstrual/id1568547321\n",
      "Saving reviews to: output/are-you-menstrual_reviews_table.csv\n",
      "The following countries have reviews: ['AU', 'BH', 'BE', 'CA', 'CO', 'HR', 'FR', 'DE', 'GB', 'IN', 'LU', 'MX', 'NL', 'NZ', 'PK', 'PH', 'PL', 'ZA', 'ES', 'US']\n",
      "Scraping reviews for are-you-menstrual in country AU\n",
      "Retrieved 10 reviews for country AU.\n",
      "Scraping reviews for are-you-menstrual in country BH\n",
      "An error occurred while scraping for country BH: string indices must be integers\n",
      "Scraping reviews for are-you-menstrual in country BE\n",
      "An error occurred while scraping for country BE: string indices must be integers\n",
      "Scraping reviews for are-you-menstrual in country CA\n",
      "Retrieved 42 reviews for country CA.\n",
      "Scraping reviews for are-you-menstrual in country CO\n",
      "An error occurred while scraping for country CO: string indices must be integers\n",
      "Scraping reviews for are-you-menstrual in country HR\n",
      "An error occurred while scraping for country HR: string indices must be integers\n",
      "Scraping reviews for are-you-menstrual in country FR\n",
      "Retrieved 2 reviews for country FR.\n",
      "Scraping reviews for are-you-menstrual in country DE\n",
      "Retrieved 5 reviews for country DE.\n",
      "Scraping reviews for are-you-menstrual in country GB\n",
      "Retrieved 5 reviews for country GB.\n",
      "Scraping reviews for are-you-menstrual in country IN\n",
      "Retrieved 2 reviews for country IN.\n",
      "Scraping reviews for are-you-menstrual in country LU\n",
      "An error occurred while scraping for country LU: string indices must be integers\n",
      "Scraping reviews for are-you-menstrual in country MX\n",
      "Retrieved 2 reviews for country MX.\n",
      "Scraping reviews for are-you-menstrual in country NL\n",
      "An error occurred while scraping for country NL: string indices must be integers\n",
      "Scraping reviews for are-you-menstrual in country NZ\n",
      "An error occurred while scraping for country NZ: string indices must be integers\n",
      "Scraping reviews for are-you-menstrual in country PK\n",
      "No reviews found for country PK.\n",
      "Scraping reviews for are-you-menstrual in country PH\n",
      "An error occurred while scraping for country PH: string indices must be integers\n",
      "Scraping reviews for are-you-menstrual in country PL\n",
      "An error occurred while scraping for country PL: string indices must be integers\n",
      "Scraping reviews for are-you-menstrual in country ZA\n",
      "Retrieved 3 reviews for country ZA.\n",
      "Scraping reviews for are-you-menstrual in country ES\n",
      "An error occurred while scraping for country ES: string indices must be integers\n",
      "Scraping reviews for are-you-menstrual in country US\n",
      "Retrieved 500 reviews for country US.\n",
      "All reviews collected for  {'app_id': 1568547321, 'app_name': 'are-you-menstrual'} !\n",
      "Reviews saved successfully to output/are-you-menstrual_reviews_table.csv\n",
      "Scraping URL: https://podcasts.apple.com/us/podcast/28ish-days-later/id1614435903\n",
      "Saving reviews to: output/28ish-days-later_reviews_table.csv\n",
      "The following countries have reviews: ['AU', 'CA', 'DK', 'DE', 'GB', 'MY', 'NL', 'PK', 'SE', 'CH', 'UA', 'US']\n",
      "Scraping reviews for 28ish-days-later in country AU\n",
      "Retrieved 4 reviews for country AU.\n",
      "Scraping reviews for 28ish-days-later in country CA\n",
      "Retrieved 3 reviews for country CA.\n",
      "Scraping reviews for 28ish-days-later in country DK\n",
      "An error occurred while scraping for country DK: string indices must be integers\n",
      "Scraping reviews for 28ish-days-later in country DE\n",
      "An error occurred while scraping for country DE: string indices must be integers\n",
      "Scraping reviews for 28ish-days-later in country GB\n",
      "Retrieved 49 reviews for country GB.\n",
      "Scraping reviews for 28ish-days-later in country MY\n",
      "An error occurred while scraping for country MY: string indices must be integers\n",
      "Scraping reviews for 28ish-days-later in country NL\n",
      "An error occurred while scraping for country NL: string indices must be integers\n",
      "Scraping reviews for 28ish-days-later in country PK\n",
      "No reviews found for country PK.\n",
      "Scraping reviews for 28ish-days-later in country SE\n",
      "Retrieved 2 reviews for country SE.\n",
      "Scraping reviews for 28ish-days-later in country CH\n",
      "An error occurred while scraping for country CH: string indices must be integers\n",
      "Scraping reviews for 28ish-days-later in country UA\n",
      "An error occurred while scraping for country UA: string indices must be integers\n",
      "Scraping reviews for 28ish-days-later in country US\n",
      "Retrieved 10 reviews for country US.\n",
      "All reviews collected for  {'app_id': 1614435903, 'app_name': '28ish-days-later'} !\n",
      "Reviews saved successfully to output/28ish-days-later_reviews_table.csv\n",
      "Scraping URL: https://podcasts.apple.com/us/podcast/holistic-womens-health-hormones-endometriosis-pcos/id1537830674\n",
      "Saving reviews to: output/holistic-womens-health-hormones-endometriosis-pcos_reviews_table.csv\n",
      "The following countries have reviews: ['CA', 'PK', 'ZA', 'ES', 'US']\n",
      "Scraping reviews for holistic-womens-health-hormones-endometriosis-pcos in country CA\n",
      "Retrieved 9 reviews for country CA.\n",
      "Scraping reviews for holistic-womens-health-hormones-endometriosis-pcos in country PK\n",
      "No reviews found for country PK.\n",
      "Scraping reviews for holistic-womens-health-hormones-endometriosis-pcos in country ZA\n",
      "An error occurred while scraping for country ZA: string indices must be integers\n",
      "Scraping reviews for holistic-womens-health-hormones-endometriosis-pcos in country ES\n",
      "An error occurred while scraping for country ES: string indices must be integers\n",
      "Scraping reviews for holistic-womens-health-hormones-endometriosis-pcos in country US\n",
      "Retrieved 19 reviews for country US.\n",
      "All reviews collected for  {'app_id': 1537830674, 'app_name': 'holistic-womens-health-hormones-endometriosis-pcos'} !\n",
      "Reviews saved successfully to output/holistic-womens-health-hormones-endometriosis-pcos_reviews_table.csv\n",
      "Your final dataframe has 754 rows.\n",
      "Exported to output/all_reviews_table_2.csv\n"
     ]
    }
   ],
   "source": [
    "# Loop through podcasts and country codes\n",
    "\n",
    "for podcast in podcasts:\n",
    "    app_id = podcast['app_id']\n",
    "    app_name = podcast['app_name']\n",
    "\n",
    "    # Construct full URL for each podcast\n",
    "    podcast_url = f\"{base_url}{app_name}/id{app_id}\"\n",
    "    print(f\"Scraping URL: {podcast_url}\")\n",
    "\n",
    "    # Create the filename and path for each podcast's review file\n",
    "    filename_csv = f'{app_name}_reviews_table.csv'\n",
    "    file_csv = os.path.join(path_out, filename_csv)\n",
    "    print(f\"Saving reviews to: {file_csv}\")\n",
    "\n",
    "    # Check available countries and get the list of country codes\n",
    "    countries_reviewed = pool_checks(podcast_url, countries)\n",
    "    print(\"The following countries have reviews:\", countries_reviewed)\n",
    "    \n",
    "    # Collect all reviews for selected countries using scrape_reviews\n",
    "    all_reviews = scrape_reviews(countries_reviewed, app_name, app_id)\n",
    "    print(\"All reviews collected for \", podcast, \"!\")\n",
    "\n",
    "    # Only proceed to save if reviews were actually collected\n",
    "    if all_reviews:\n",
    "        try:\n",
    "            # Concatenate all country-specific DataFrames into one DataFrame per podcast\n",
    "            combined_reviews_df = pd.concat(all_reviews, ignore_index=True)\n",
    "            \n",
    "            # Save the combined DataFrame for each podcast\n",
    "            combined_reviews_df.to_csv(file_csv, index=False)\n",
    "            print(f\"Reviews saved successfully to {file_csv}\")\n",
    "        \n",
    "        except Exception as e:\n",
    "            print(f\"An error occurred while saving reviews for {app_name}: {e}\")\n",
    "    else:\n",
    "        print(f\"No reviews collected for {app_name}. Skipping save.\")\n",
    "        \n",
    "# After creating all individual CSV files, merge them\n",
    "\n",
    "output_filename = 'all_reviews_table'\n",
    "\n",
    "# Check if output file exists from previous script execution\n",
    "existing_files = glob.glob(os.path.join(path_out, f\"{output_filename}*.csv\"))\n",
    "if existing_files:\n",
    "    max_index = max(\n",
    "        [\n",
    "            int(os.path.splitext(os.path.basename(f))[0].split('_')[-1]) \n",
    "            for f in existing_files if f\"{output_filename}_\" in f\n",
    "        ] + [1]\n",
    "    )\n",
    "    new_filename = f\"{output_filename}_{max_index + 1}.csv\"\n",
    "else:\n",
    "    new_filename = f\"{output_filename}.csv\"  # First file\n",
    "\n",
    "file_csv2 = os.path.join(path_out, new_filename)\n",
    "\n",
    "# Exclude existing all_reviews_table.csv\n",
    "all_files = glob.glob(os.path.join(path_out, \"*_reviews_table.csv\"))\n",
    "all_files = [f for f in all_files if os.path.basename(f) != \"all_reviews_table.csv\"]\n",
    "\n",
    "if all_files:\n",
    "    # Combine all review files\n",
    "    combined_df = pd.concat((pd.read_csv(f, sep=\"\\t\") for f in all_files), ignore_index=True)\n",
    "\n",
    "    # Save the combined DataFrame to the new CSV file\n",
    "    print(\"Your final dataframe has\", len(combined_df), \"rows.\")\n",
    "    combined_df.to_csv(file_csv2, index=False, sep=\"\\t\")\n",
    "    print(f'Exported to {file_csv2}')\n",
    "else:\n",
    "    print(\"No review files found to combine.\")\n",
    "\n",
    "    # NOTE: the review count seen on the landing page of a podcast differs from the actual number of reviews fetched.\n",
    "    # This is simply because only some users who rated the app also leave reviews.\n",
    "    "
   ]
  },
  {
   "cell_type": "markdown",
   "id": "b873fa0b-7539-446e-81f3-eea788a2ec89",
   "metadata": {},
   "source": [
    "Now check your output data in the /output folder and download them! Make sure to save restart the kernel (circle button above) before entering new podcast URLs and running the script again. Otherwise you may see old data copied to your new files."
   ]
  }
 ],
 "metadata": {
  "colab": {
   "provenance": []
  },
  "kernelspec": {
   "display_name": "Python 3 (ipykernel)",
   "language": "python",
   "name": "python3"
  },
  "language_info": {
   "codemirror_mode": {
    "name": "ipython",
    "version": 3
   },
   "file_extension": ".py",
   "mimetype": "text/x-python",
   "name": "python",
   "nbconvert_exporter": "python",
   "pygments_lexer": "ipython3",
   "version": "3.8.13"
  }
 },
 "nbformat": 4,
 "nbformat_minor": 5
}
